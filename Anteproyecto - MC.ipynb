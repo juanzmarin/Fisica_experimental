{
 "cells": [
  {
   "cell_type": "markdown",
   "metadata": {},
   "source": [
    "# ANTEPROYECTO\n",
    "\n",
    "## Métodos computacionales\n",
    "\n",
    "\n",
    "**Facultad de Ciencias Exactas y Naturaless**<br>\n",
    "**Universidad de Antoioquia**\n",
    "\n",
    "\n",
    "Juan Esteban Zapata<br>\n",
    "C.C. 1193151372"
   ]
  },
  {
   "cell_type": "markdown",
   "metadata": {},
   "source": [
    "## Solución a un péndulo no lineal a través de ecuaciones diferenciales ordinarias"
   ]
  },
  {
   "cell_type": "markdown",
   "metadata": {},
   "source": [
    "### Contexto teórico\n",
    "\n",
    "Un péndulo es un sistema físico que oscila debido a la acción de una fuerza cuya dirección y/o magnitud varía en el tiempo. Un pendulo típico en los problemas teóricos de física, consta de un cuerpo de masa constante $m$ fijado en el extremo de una cuerda de longitud constante $l$, en el que no actúan fuerzas disipativas externas. \n",
    "\n",
    "\n",
    "<img src=\"Pictures/pendulo.png\" width=200 height=200/>\n",
    "\n",
    "\n",
    "Sea $s$ el sector de una circunferencia de radio $l$ recorrido por el péndulo. Este sector está relacionado con el ángulo $\\theta$ por la ecuación $s=l\\theta$. Entonces, la aceleración angular puede expresarse como:\n",
    "\n",
    "$$ a = \\frac{d^2s}{dt^2} = l\\frac{d^2\\theta}{dt^2}\\quad$$\n",
    "\n",
    "Por la segunda ley de Newton:\n",
    "\n",
    "$$ F = ml\\frac{d^2\\theta}{dt^2}\\quad(1)$$\n",
    "\n",
    "La magnitud de la componente de la fuerza debido al peso W es $-mg\\sin{(\\theta)}$. Si se combina esto con la ecuación (1) puede obtenerse el siguiente resultado:\n",
    "\n",
    "$$\\frac{d^2\\theta}{dt^2} + \\frac{g}{l}\\sin{(\\theta)}=0$$\n",
    "\n",
    "Esta ecuación diferencial es del tipo no-lineal debido a la presencia del término $\\sin{(\\theta)}$. En los primeros cursos de física, este término es reemplazado por la aproximación $\\sin{(\\theta)}\\approx\\theta$. Sin embargo, esta aproximación solo es válida para $\\theta<15º$ pues para valores mayores que 15º, el error es considerable.\n",
    "\n",
    "### Problema\n",
    "\n",
    "Dadas unas condiciones iniciales $\\theta(t_j)=k_1 > 15º$ y $\\theta'(t_j)=k_2$, solucionar el péndulo: Encontrar una expresión general para el periodo, calcular el tiempo que tarda en pasar por la vertical (hallar las raíces de $\\theta(t)=0$), y hacer un análisis de la energía del sistema. Todo esto, para diferentes valores de $\\theta_i$, con el fin de analizar el comportamiento del sistema físico a pequeñas (o grandes) variaciones de las condiciones iniciales.\n",
    "\n",
    "En este proyecto, se usarán los temas de root-finding, diferenciación e integración numérica, ecuaciones diferenciales (y tal vez interpolación y álgebra lineal).\n",
    "\n",
    "\n",
    "### Referencias:\n",
    "\n",
    "Imagen tomada y problema de aplicación adaptado de: \n",
    "\n",
    "*Differential Equations With Boundary-Value Problems, Dennis G. Zill, Séptima edición, pág. 215 ejercicio 22*."
   ]
  }
 ],
 "metadata": {
  "kernelspec": {
   "display_name": "Python 3",
   "language": "python",
   "name": "python3"
  },
  "language_info": {
   "codemirror_mode": {
    "name": "ipython",
    "version": 3
   },
   "file_extension": ".py",
   "mimetype": "text/x-python",
   "name": "python",
   "nbconvert_exporter": "python",
   "pygments_lexer": "ipython3",
   "version": "3.7.4"
  }
 },
 "nbformat": 4,
 "nbformat_minor": 2
}
