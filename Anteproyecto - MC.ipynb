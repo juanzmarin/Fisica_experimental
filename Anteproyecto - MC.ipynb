{
 "cells": [
  {
   "cell_type": "markdown",
   "metadata": {},
   "source": [
    "# ANTEPROYECTO\n",
    "\n",
    "## Métodos computacionales\n",
    "\n",
    "\n",
    "**Facultad de Ciencias Exactas y Naturaless**<br>\n",
    "**Universidad de Antoioquia**\n",
    "\n",
    "\n",
    "Juan Esteban Zapata<br>\n",
    "C.C. 1193151372"
   ]
  },
  {
   "cell_type": "markdown",
   "metadata": {},
   "source": [
    "### Contexto teórico\n",
    "\n",
    "Un péndulo es un sistema físico que oscila debido a la acción de una fuerza cuya dirección y/o magnitud varía en el tiempo. Un pendulo típico en los problemas teóricos de física, consta de un cuerpo de masa constante $m$ fijado en el extremo de una cuerda de longitud constante $l$, en el que no actúan fuerzas disipativas externas. \n",
    "\n",
    "\n",
    "\n",
    "\n",
    "\n",
    "Si la longitud del péndulo $r$ no es constante y es función del tiempo, entonces el sistema no puede ser tratado como un oscilador armónico simple.\n",
    "\n",
    "En ese caso, las ecuaciones de posición del cuerpo son:\n",
    "\n",
    "$$x(t)=r(t)\\sin{(\\theta(t))}$$\n",
    "$$y(t)=-r(t)\\cos{(\\theta(t))}$$\n",
    "\n",
    "Usando el lagrangiano $L$ y la ecuación de Euler-Lagrange para encontrar más fácilmente las ecuaciones de movimiento ($L=K_{cinética}-U_{pot}$) resulta:\n",
    "\n",
    "$$\\frac{d\\theta(t) ^2}{dt^2}+2\\frac{\\dot{r}(t)}{r(t)}\\frac{d\\theta}{dt}+\\frac{g}{r(t)}\\sin{(\\theta(t))}=0\\hspace{2cm}(1)$$\n",
    "\n",
    "$$\\frac{dr(t) ^2}{dt^2}-\\frac{r(t)}{2}\\frac{d\\theta(t) ^2}{dt^2}-\\frac{g\\cos{(\\theta(t))}}{2}=0\\hspace{2cm}(2)$$\n",
    "\n",
    "### Problema\n",
    "\n",
    "El problema físico consiste en dos objetos de masa $m_1$ y $m_2$, unidos por una cuerda inextensible de longitud $2d$. En el punto medio entre los bloques, hay una polea. El bloque de masa $m_1$ se encuentra sobre una superficie horizontal sin fricción y se mueve de esta manera a la derecha. El bloque de masa $m_2$ se suelta desde el reposo, y describe un movimiento pendular. Debido a que el bloque libre hala el bloque que se mueve por la superficie, la distancia de la masa colgante a la polea $r$ es función del tiempo.\n",
    "\n",
    "<img src=\"Pictures/descarga2.jpeg\" width=800 height=800/>\n",
    "\n",
    "Las ecuaciones del sistema son (1) y (2).\n",
    "\n",
    "El objetivo es responder:\n",
    "\n",
    "1. ¿Qué ocurre primero? El bloque $m_1$ llega a la polea o el bloque $m_2$ golpea la pared\n",
    "2. ¿Cómo cambian los resultados si se alteran ligeramente las condiciones iniciales?\n",
    "5. ¿Qué debe ocurrir para que los dos sucesos del punto 1 ocurran simultáneamente?\n",
    "\n",
    "En este proyecto se usarán los temas de resolución de ecuaciones diferenciales, diferenciación e integración numérica, cálculo de raíces (y tal vez interpolación)."
   ]
  }
 ],
 "metadata": {
  "kernelspec": {
   "display_name": "Python 3",
   "language": "python",
   "name": "python3"
  },
  "language_info": {
   "codemirror_mode": {
    "name": "ipython",
    "version": 3
   },
   "file_extension": ".py",
   "mimetype": "text/x-python",
   "name": "python",
   "nbconvert_exporter": "python",
   "pygments_lexer": "ipython3",
   "version": "3.7.4"
  }
 },
 "nbformat": 4,
 "nbformat_minor": 2
}
