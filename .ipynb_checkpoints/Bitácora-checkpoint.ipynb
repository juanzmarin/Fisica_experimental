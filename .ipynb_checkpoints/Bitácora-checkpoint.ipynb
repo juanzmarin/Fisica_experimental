{
 "cells": [
  {
   "cell_type": "markdown",
   "metadata": {},
   "source": [
    "<img src=\"Pictures/Escudo_UDEA.png\" width=200 height=200 style=\"float:right\" />\n",
    "\n",
    "# BITÁCORA DE LABORATORIO\n",
    "\n",
    "## Física Experimental ll\n",
    "\n",
    "\n",
    "**Facultad de Ciencias Exactas y Naturaless**<br>\n",
    "**Universidad de Antoioquia**\n",
    "\n",
    "\n",
    "Juan Esteban Zapata<br>\n",
    "C.C. 1193151372"
   ]
  },
  {
   "cell_type": "markdown",
   "metadata": {},
   "source": [
    "## Contenido:\n",
    "\n",
    "* [Actividad 0 - Repaso instrumentos de trabajo y teoría de errores](#Actividad0)<br>\n",
    "* [Actividad 1 - Medición del diámetro de un cabello](#Actividad1)<br>\n",
    "* [Actividad 2 - Medición del periodo de un péndulo con Photogate](#Actividad2)<br>\n",
    "* [Referencias](#Referencias)<br>"
   ]
  },
  {
   "cell_type": "markdown",
   "metadata": {},
   "source": [
    "## ACTIVIDAD #0 &emsp; (12/02/2020)"
   ]
  },
  {
   "cell_type": "markdown",
   "metadata": {},
   "source": [
    "<a id='Actividad0'></a>\n",
    "##  Repaso instrumentos de trabajo y teoría de errores\n",
    "\n",
    "**Actividad:** <br>Medir las dimensiones de la mesa de trabajo y de canicas metálicas de diferente tamaño.\n",
    "\n",
    "\n",
    "**Objetivo:** <br>Reconocer los instrumentos de laboratorio, sus métodos de uso y la teoría de propagación de errores.\n",
    "\n",
    "\n",
    "**Materiales:** <br>Flexómetro, micrómetro, pie de rey.\n",
    "\n",
    "\n",
    "**Contexto teórico:** <br>Todas las mediciones físicas, por la naturaleza de los instrumentos de medida, tienen un grado de incertidumbre. Es decir, no se pueden representar como un valor exacto, sino como una aproximación al valor real acompañado de una incertidumbre númerica propia del instrumento con el que se mide.<br> Cualitativamente, los errores pueden clasificarse en dos tipos: <br> \n",
    "* ***Errores sístemáticos:*** Son aquellos que dependen del sistema que se está empleando para realizar la medición, permanecen costantes durante el experimento y afectan directamente los resultados. <br><br>\n",
    "* ***Errores aleatorios:*** Son aquellos errores impredecibles que aparecen debido a factores externos al experimento y que son producto del azar. Este tipo de error no se puede eliminar, pero sí controlar.\n",
    "\n",
    "\n",
    "**Procedimiento:** <br>Se midió el largo y ancho de la mesa de trabajo, usando el flexómetro el cual tiene una incertidumbre propia asocida de 1mm. Posteriormente, se midió el diámetro de tres canicas, cada una de diferente tamaño, utilizando un micrómetro con incertidumbre propia de 1/100 mm.\n",
    "\n",
    "\n",
    "**Resultados:**\n",
    "\n",
    "Ancho de la mesa: $[67.5 ± 0.1]$ cm <br>Largo de la mesa: $[78.7 ± 0.1]$ cm<br>Esfera 1:   $[17.43 ± 0.01]$mm<br>Esfera 2: $[6.25 ± 0.01]$mm<br>Esfera 3:   $[11.09 ± 0.01]$mm"
   ]
  },
  {
   "cell_type": "markdown",
   "metadata": {},
   "source": [
    "## Actividad #1 &emsp; (14/02/2020)"
   ]
  },
  {
   "attachments": {
    "laser.png": {
     "image/png": "[encoded data removed]"
    }
   },
   "cell_type": "markdown",
   "metadata": {},
   "source": [
    "<a id='Actividad1'></a>\n",
    "## Medición de diámetro de cabello\n",
    "\n",
    "**Actividad:** <br>Medir el diámetro de un cabello con diferentes instrumentos de medida.\n",
    "\n",
    "**Objetivo:** <br>Reconocer los instrumentos de laboratorio, sus métodos de uso y la teoría de propagación de errores.\n",
    "\n",
    "**Materiales:** <br>Láser, regla, flexómetro, micrómetro, pie de rey, pantalla.\n",
    "\n",
    "**Contexto teórico:** <br>La difracción es el fenómeno por el cual una onda que atraviesa un obstáculo se distorsiona y se propaga en todas las direcciones detrás de ese obstáculo. En general, ocurre cuando las ondas de luz pasan a través de pequeñas aberturas o por bordes afilados. Para este experimento, se medirá el diámetro de un cabello humano, aprovechando el fenómeno de difracción. El diámetro del cabello está dado por la ecuación.\n",
    "\n",
    "$$d = \\frac{2\\lambda D}{L} $$\n",
    "\n",
    "donde $d$ es el diámetro del cabello, $\\lambda$ es la longitud de onda del láser, $D$ es la distancia del pelo a la pared donde se proyectas los rayos difractados, y $L$ es la longitud del rayo oscuro del centro de la pantalla.\n",
    "\n",
    "![laser.png](attachment:laser.png)\n",
    "\n",
    "\n",
    "Para la propagación de errores, se usarán de ahora en adelante las siguientes fórmulas, extraídas del libro *Manual de laboratorio* del\n",
    "profesor Jorge Mahecha [\\[1\\]](#1):\n",
    "\n",
    "\\begin{equation}\\begin{aligned}\n",
    "\\Delta(\\mathrm{x} \\pm \\mathrm{y}) &=\\Delta \\mathrm{x}+\\Delta \\mathrm{y} \\\\\n",
    "\\Delta(\\mathrm{x} \\cdot \\mathrm{y}) &=\\mathrm{x} \\cdot \\Delta \\mathrm{y}+\\mathrm{y} \\cdot \\Delta \\mathrm{x} \\\\\n",
    "\\Delta\\left(\\frac{\\mathrm{x}}{\\mathrm{y}}\\right) &=\\frac{\\mathrm{x} \\cdot \\Delta \\mathrm{y}+\\mathrm{y} \\cdot \\Delta \\mathrm{x}}{\\mathrm{y}^{2}} \\\\\n",
    "\\Delta \\sqrt{\\mathrm{x}} &=\\frac{\\Delta \\mathrm{x}}{2 \\sqrt{\\mathrm{x}}} \\\\\n",
    "\\Delta \\ln (\\mathrm{x}) &=\\frac{\\Delta \\mathrm{x}}{\\mathrm{x}} \\\\\n",
    "\\Delta \\mathrm{x}^{\\mathrm{a}} &=\\mathrm{a} \\mathrm{x}^{\\mathrm{a}-1} \\Delta \\mathrm{x} \\\\\n",
    "\\Delta\\left(\\frac{\\mathrm{x} \\cdot \\mathrm{y}}{\\mathrm{z}}\\right) &=\\frac{\\mathrm{y}}{\\mathrm{z}} \\Delta \\mathrm{x}+\\frac{\\mathrm{x}}{\\mathrm{z}} \\Delta \\mathrm{y}+\\frac{\\mathrm{x} \\cdot \\mathrm{y}}{\\mathrm{z}^{2}} \\Delta \\mathrm{z}\n",
    "\\end{aligned}\\end{equation}\n",
    "\n",
    "\n",
    "**Procedimiento:** <br>Sobre la mesa de trabajo se colocó el laser de helio-neón de 632.991 nm de longitud de onda, con incertidumbre propia del instrumento de 0,001 nm. El cabello se pegó con cinta adhesiva a un pedazo circular de cartón con un hueco en el centro, por el que atravesó el rayo del láser. La distancia entre el cabello y la pantalla de proyección fue medida con el flexómetro, mientras que la longitud del rayo oscuro sobre la pantalla se midió con el pie de rey. Las mediciones se hicieron dos veces, cada una con una distancia diferente a la pared de proyección, y la medición de la longitud de\n",
    "\n",
    "\n",
    "**Resultados:** Los resultados se muestran en la siguiente tabla:\n",
    "\n",
    "| | D [± 0.1 cm] | $\\lambda$ [±0.001 nm]| L [± 0.05 mm] | d [$\\mu m$]\n",
    "| --- | --- | --- | --- | --- |\n",
    "**Medida 1** | 80.0 cm | 632.991 | 0.280 | 36.17\n",
    "**Medida 2** | 85.0 cm | 632.991 | 0.245 | 43.92\n",
    "\n",
    "Para la medida 1, el cálculo se hizo como : $$d = \\frac{2\\times[6.330\\pm0.001]\\times10^-3 \\mu m\\times[8.0\\pm0.1]\\times10^5\\mu m}{[280\\pm50.0]\\mu m}$$\n",
    "\n",
    "Todos los valores en micrómetros ($\\mu m$) para que el resultado esté en estas mismas unidades. El valor final es el siguiente: \n",
    "\n",
    "$$d = [36.17\\pm6.31]\\mu m$$\n",
    "\n",
    "Análogamente, para la medida 2 el resultado es:\n",
    "\n",
    "$$d = [43.92\\pm8.23]\\mu m$$\n",
    "\n",
    "Estos resultados se encuentran dentro del rango del grosor promedio del cabello humano, que está entre 17 y 181 $\\mu m$ [\\[2\\]](#2)"
   ]
  },
  {
   "cell_type": "code",
   "execution_count": 1,
   "metadata": {},
   "outputs": [
    {
     "name": "stdout",
     "output_type": "stream",
     "text": [
      "El valor del diámetro 1 es: 36.17 y su error es 6.31\n",
      "El valor del diámetro 2 es: 43.92 y su error es 8.21\n"
     ]
    }
   ],
   "source": [
    "_lamb = 6.330e-3; errlamb = 1e-3 #Longitud de onda y su error en micrómetros.\n",
    "D = 8e5; errD = 0.1e5 # Distancia pelo-mesa y su error en micrómetros.\n",
    "L = 280; errL = 50.0 # Longitud rayo oscuro en micrómetros.\n",
    "\n",
    "#Cálculo del díametro para el pelo a 80cm\n",
    "d = 2*(_lamb*D)/L\n",
    "errd = (D/L)*errlamb + (_lamb/L)*errD + ((_lamb*D)/L**2)*errL #Fórmula de error tipo (x·y)/z\n",
    "\n",
    "print('El valor del diámetro 1 es: %.2f y su error es %.2f'%(d, errd))\n",
    "\n",
    "#Cálculo del díametro para el pelo a 85cm\n",
    "\n",
    "D =8.5e5\n",
    "L = 245\n",
    "\n",
    "d = 2*(_lamb*D)/L\n",
    "errd = (D/L)*errlamb + (_lamb/L)*errD + ((_lamb*D)/L**2)*errL\n",
    "\n",
    "print('El valor del diámetro 2 es: %.2f y su error es %.2f'%(d, errd))"
   ]
  },
  {
   "cell_type": "markdown",
   "metadata": {},
   "source": [
    "## Actividad #2 &emsp; (26/02/2020)"
   ]
  },
  {
   "cell_type": "markdown",
   "metadata": {},
   "source": [
    "<a id='Actividad2'></a>\n",
    "## Medición del periodo de un péndulo con arduino\n",
    "\n",
    "**Actividad:** <br>Medir el periodo de un péndulo cien veces, manualmente y con arduino, y hacer histogramas.\n",
    "\n",
    "**Objetivo:** <br>1. Estudiar el tratamiento estadístico para las variables continuas y discretas.<br>2. Comprobar la aparición de la distribución normal en la medición repetitiva del periodo del péndulo.\n",
    "\n",
    "**Materiales:** <br> Cronómetro, péndulo, arduino, photogate.\n",
    "\n",
    "**Contexto teórico:** <br>Cuando una medida se realiza varias veces, utilizando un instrumento de gran sensibilidad, precisión y exactitud, el error se disminuye a medida que se aumenta el número de repeticiones de la medida. El resultado en este caso depende no sólo del instrumento sino de\n",
    "consideraciones de naturaleza estadística.\n",
    "Cuando en un experimento se toma varias veces la medida de una cantidad, realmente se está extrayendo una muestra con la pretención de que sea representativa del conjunto infinito de resultados posibles.\n",
    "\n",
    "\n",
    "* ***Variable continua:*** <br> Es aquella variable que puede tomar cualquier valor en un intervalo determinado o esperado. Es decir, si $x_i$ y $x_j$ son dos valores dentro del intervalo, siempre puede existir un valor intermedio $x_k$ entre estos dos, que tiene la probabilidad de tomar el valor de la variable.\n",
    "\n",
    "\n",
    "* ***Variable discreta:*** <br> Es aquella variable que se presenta en un conjunto determinado, pero que entre dos valores consecutivos, no existe un valor medio que pueda tomar la variable. Es decir, se presenta una separación uniforme entre un conjunto mínimo contable dentro del conjunto de posibles valores.\n",
    "\n",
    "Dependiendo del tipo de variable que se esté midiendo, esta se puede acomodar a una función de distribución diferente. Si la variable es discreta y las mediciones son independientes entre sí, en la mayoría de casos los datos se acomodan en una distribución binomial. En contraste, se ha encontrado que si la variable es de tipo continua, en la mayoría de los casos puede acomodarse satisfactoriamente en una función de distribución normal. Este fenómeno es enunciado en el siguiente teorema:\n",
    "\n",
    "* ***Teorema del límite central:*** <br> Si $x_1, x_2, x_3,...,x_n$ son variables aleatorias continuas, independientes e igualmente distribuidas, y si la muestra es suficientemente grande ($n$ lo es), la distribución de las medias se aproximan bien a una distribución normal. Si se define la variable:\n",
    "\n",
    "$$Y_n = \\sum_{i=1}^{n}x_i \\quad\\text{y además, sea}\\quad Z=\\frac{Y_n-m_y}{\\sigma_y}$$\n",
    "\n",
    "$\\quad$ Entonces, independiente de cómo es la naturaleza de las variables $x_i$, se verifica que:\n",
    "\n",
    "$$\\lim_{n \\to\\infty}f_Z(z)=\\frac{1}{\\sqrt{2\\pi}}e^{\\frac{-z^2}{2}}$$\n",
    "\n",
    "$\\quad$ Donde el término de la derecha es la función de densidad de la distribución normal.\n",
    "\n",
    "El histograma es un tipo de gráfico que ayuda en la representación de un conjunto de datos agrupados en intervalos de frecuencia. En estos gráficos, la altura de las barras es directamente proporcional a la frecuencia de los datos representados. A través de los histogramas, puede hacerse rápidamente una idea de la distribución de los datos o la muestra. Si el histograma está normalizado (es decir, la suma de las frecuencias de cada una de las barras es igual a la unidad), este nos da información de la probabilidad que una variable del mismo tipo o población se ubique dentro de la distribución.\n",
    "\n",
    "**Procedimiento:** <br>El péndulo se ubicó sobre el borde de la mesa. Se le dio una amplitud inicial de 10º en la primera parte del experimento, y de 20º en la segunda parte. El péndulo tenía una longitud L de 77cm medida con el flexómetro. Posteriormente se incorporó el photogate, configurado para medir tiempos de oscuridad en milisegundos, y se dio inicio a las mediciones haciendo oscilar el péndulo a través de los brazos del photogate. Mediante un software especializado instalado en el computador auxiliar, la fotocompuerta transfería los datos medidos a un archivo de texto plano. \n",
    "\n",
    "Luego de finalizada la sección práctica de la actividad, se guardaron los datos en dos archivos .txt (uno para cada amplitud inicial del péndulo), se limpiaron y leyeron usando python. Finalmente, aprovechando la librería **matplotlib**, se graficó los histogramas de los datos extraídos. *Nota:* La anchura de los bins del historgama se calculó usando la [regla de Sturges](https://es.wikipedia.org/wiki/Regla_de_Sturges).\n",
    "\n",
    "**Resultados:**"
   ]
  },
  {
   "cell_type": "code",
   "execution_count": 25,
   "metadata": {},
   "outputs": [
    {
     "data": {
      "image/png": "[encoded data removed]",
      "text/plain": [
       "<Figure size 576x576 with 2 Axes>"
      ]
     },
     "metadata": {
      "needs_background": "light"
     },
     "output_type": "display_data"
    }
   ],
   "source": [
    "#Se cargan las librerías necesarias para el manejo estadístico y la graficación\n",
    "\n",
    "import numpy as np #Librería numérica\n",
    "import matplotlib.pyplot as plt #Librería de graficación.\n",
    "\n",
    "%matplotlib inline\n",
    "\n",
    "#Datos de periodo del péndulo, con una longitud de [77.0 ± 0.1]cm , \n",
    "# y una amplitud de 20°, en milisegundos [ms]\n",
    "\n",
    "\n",
    "period_20 = np.array([1873, 1623, 1776, 1713, 1869, 1921, 1868, 1798, 1821, 2023, 1857, 1821,\n",
    "                      1745, 1765, 1869, 2113, 1941, 1734, 1983, 1862, 1600, 1738, 1972, 1713,\n",
    "                      1986, 1992, 1975, 1822, 1927, 1813, 1749, 1851, 1679, 2007, 1972, 2068,\n",
    "                      1983, 1978, 1949, 1727, 1970, 1551, 1849, 2035, 1905, 2026, 1716, 2153,\n",
    "                      1641, 2027, 1860, 1917, 2020, 1728, 1802])\n",
    "\n",
    "c20 = int(1 + np.log2(len(period_20))) #Cálculo del número de bins según la regla de Sturges\n",
    "\n",
    "#Datos de periodo del péndulo, con una longitud de [77.0 ± 0.1]cm ,\n",
    "# y una amplitud de 10°, en milisegundos [ms]\n",
    "\n",
    "period_10 = np.array([1679, 1871, 1919, 1891, 1949, 1817, 1936, 1961, 1978, 1648, 1908, 1851,\n",
    "                      1970, 1782, 2110, 1658, 1808, 1934, 1992, 1945, 1827, 1900, 1733, 1959,\n",
    "                      1810, 1750, 1848, 1720, 1674, 1829, 1921, 1906, 1875, 2041, 1828, 1823,\n",
    "                      1751, 1957, 1615, 1823, 1688, 2007, 1836, 1846, 1912, 2000, 2001, 1833, 1841, 1982])\n",
    "\n",
    "c10 = int(1 + np.log2(len(period_10))) #Cálculo del número de bins según la regla de Sturges\n",
    "\n",
    "\"\"\"Creación de los histogramas para los periodos de los péndulos a 10° y 20° de amplitud.\n",
    "El gráfico de la izquierda representa el histograma para 10°, el de la derecha para el de 20°\"\"\"\n",
    "\n",
    "# Creación de la figura\n",
    "f = plt.figure(figsize=(8,8))\n",
    "ax = f.add_subplot(121)\n",
    "ax2 = f.add_subplot(122)\n",
    "\n",
    "\n",
    "### Primer histograma - 10° de amplitud\n",
    "ax.hist(period_10, color='lightblue', edgecolor='black', bins=c10, density=True)\n",
    "#Extracción de la media y la devsiación estándar\n",
    "mu, sigma = np.mean(period_10), np.std(period_10) \n",
    "\n",
    "# Edición de los labels del gráfico\n",
    "ax.set_xlabel('Periodo [ms]', fontsize=15)\n",
    "ax.set_ylabel('Frecuencia normalizada', fontsize=15)\n",
    "ax.set_title(r'Histograma de periodos de péndulo: $L= [77.0 \\pm 0.1] cm$,  $\\theta=10°$', fontsize=15)\n",
    "ax.axvline(mu, c='orange', ls='--', linewidth=4, label='Media')\n",
    "ax.axvline(mu-sigma, c='red', ls='--', linewidth=4, label='Desviación estándar')\n",
    "ax.axvline(mu+sigma, c='red', ls='--', linewidth=4)\n",
    "\n",
    "ax.legend(loc='upper left')\n",
    "\n",
    "### Segundo histograma - 20° de amplitud\n",
    "\n",
    "#Extracción de la media y la devsiación estándar\n",
    "ax2.hist(period_20, color='lightblue', edgecolor='black', bins=c20, density=True)\n",
    "mu2, sigma2 = np.mean(period_20), np.std(period_20)\n",
    "\n",
    "# Edición de los labels del gráfico\n",
    "ax2.set_xlabel('Periodo [ms]', fontsize=15)\n",
    "ax2.set_ylabel('Frecuencia normalizada', fontsize=15)\n",
    "ax2.set_title(r'Histograma de periodos de péndulo: $L= [77.0 \\pm 0.1] cm$,  $\\theta=20°$', fontsize=15)\n",
    "ax2.axvline(mu2, c='orange', ls='--', linewidth=4, label='Media')\n",
    "ax2.axvline(mu-sigma, c='red', ls='--', linewidth=4, label='Desviación estándar')\n",
    "ax2.axvline(mu+sigma, c='red', ls='--', linewidth=4)\n",
    "ax2.legend(loc='upper left')\n",
    "\n",
    "plt.subplots_adjust(right=2)\n",
    "\n",
    "plt.show()\n"
   ]
  },
  {
   "cell_type": "markdown",
   "metadata": {},
   "source": [
    "## Referencias:"
   ]
  },
  {
   "cell_type": "markdown",
   "metadata": {},
   "source": [
    "<a id='Referencias'></a>\n",
    "<a id='1'></a>\n",
    "1. *Manual de laboratorio, Jorge Mahecha Gómez, Universidad de Antioquia, 2009, pág. 11*\n",
    "\n",
    "<a id='2'></a>\n",
    "2. B10NUMB3R5, Universidad de Harvard, https://bionumbers.hms.harvard.edu/bionumber.aspx?id=106856&ver=2"
   ]
  }
 ],
 "metadata": {
  "kernelspec": {
   "display_name": "Python 3",
   "language": "python",
   "name": "python3"
  },
  "language_info": {
   "codemirror_mode": {
    "name": "ipython",
    "version": 3
   },
   "file_extension": ".py",
   "mimetype": "text/x-python",
   "name": "python",
   "nbconvert_exporter": "python",
   "pygments_lexer": "ipython3",
   "version": "3.7.4"
  }
 },
 "nbformat": 4,
 "nbformat_minor": 2
}
